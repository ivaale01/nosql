{
 "cells": [
  {
   "cell_type": "code",
   "execution_count": 13,
   "id": "06b7c4e9-7798-495e-99eb-025d7fac2efd",
   "metadata": {},
   "outputs": [],
   "source": [
    "%load_ext cypher\n",
    "%matplotlib inline"
   ]
  },
  {
   "cell_type": "code",
   "execution_count": 14,
   "id": "75de1c02-f76c-4d9a-b855-f9f94954caab",
   "metadata": {},
   "outputs": [
    {
     "name": "stdout",
     "output_type": "stream",
     "text": [
      "  \"neo4j_version\" : \"3.5.11\"\n"
     ]
    }
   ],
   "source": [
    "!curl -s http://localhost:7474/db/data/ | grep neo4j_version"
   ]
  },
  {
   "cell_type": "markdown",
   "id": "70ce5c34-e9d9-49e5-b06b-fcb152be1f42",
   "metadata": {},
   "source": [
    "## Creamos los nodos principales con sus atributos"
   ]
  },
  {
   "cell_type": "code",
   "execution_count": 3,
   "id": "d7b18126-6184-491c-ab3e-012e45bfdf06",
   "metadata": {},
   "outputs": [
    {
     "name": "stdout",
     "output_type": "stream",
     "text": [
      "25 nodes created.\n",
      "30 properties set.\n",
      "25 labels added.\n"
     ]
    },
    {
     "data": {
      "text/html": [
       "<table>\n",
       "    <tr>\n",
       "    </tr>\n",
       "</table>"
      ],
      "text/plain": [
       "[]"
      ]
     },
     "execution_count": 3,
     "metadata": {},
     "output_type": "execute_result"
    }
   ],
   "source": [
    "%%cypher\n",
    "\n",
    "CREATE (norwegian:Person {name: 'Norwegian'})\n",
    "CREATE (british:Person {name: 'British'})\n",
    "CREATE (swede:Person {name: 'Swede'})\n",
    "CREATE (dane:Person {name: 'Dane'})\n",
    "CREATE (german:Person {name: 'German'})\n",
    "CREATE (dog:Pet {name: 'Dog'})\n",
    "CREATE (birds: Pet {name: 'Birds'})\n",
    "CREATE (horse: Pet   {name: 'Horse'})\n",
    "CREATE (cat: Pet   {name: 'Cat'})\n",
    "CREATE (fish: Pet   {name: 'Fish'})\n",
    "CREATE (tea:Beverage {name: 'Tea'})\n",
    "CREATE (coffee:Beverage {name: 'Coffee'})\n",
    "CREATE (milk:Beverage {name: 'Milk'})\n",
    "CREATE (beer:Beverage {name: 'Beer'})\n",
    "CREATE (water:Beverage {name: 'Water'})\n",
    "CREATE (pallmall:Tobacco {name: 'PallMall'})\n",
    "CREATE (dunhill:Tobacco {name: 'Dunhill'})\n",
    "CREATE (blends:Tobacco {name: 'Blends'})\n",
    "CREATE (bluemaster:Tobacco {name: 'BlueMaster'})\n",
    "CREATE (prince:Tobacco {name: 'Prince'})\n",
    "CREATE (red:House {name: 'Red', position: 'Third'}), (green:House {name: 'Green', position: 'Fourth'})\n",
    "CREATE (white:House {name: 'White', position: 'Fifth'})\n",
    "CREATE (yellow:House {name: 'Yellow',  position: 'First'})\n",
    "CREATE (blue:House {name: 'Blue',  position: 'Second'})\n",
    "\n",
    "\n"
   ]
  },
  {
   "cell_type": "markdown",
   "id": "2559aa9b-a414-4e92-9e63-5901458f41eb",
   "metadata": {},
   "source": [
    "<img src= \"Taller_BBDD/neo4j/imagenes/Primera imagen.png\">\n",
    "\n"
   ]
  },
  {
   "cell_type": "code",
   "execution_count": null,
   "id": "6600e250-5e65-45d8-b7e1-1b713d7d6445",
   "metadata": {},
   "outputs": [],
   "source": [
    "## Añadimos a los nodos las relaciones que ya conocemos"
   ]
  },
  {
   "cell_type": "code",
   "execution_count": 4,
   "id": "f7a47a1b-84ac-4dc5-9a4c-a6dec15aec1e",
   "metadata": {},
   "outputs": [
    {
     "name": "stdout",
     "output_type": "stream",
     "text": [
      "1 relationships created.\n"
     ]
    },
    {
     "data": {
      "text/html": [
       "<table>\n",
       "    <tr>\n",
       "    </tr>\n",
       "</table>"
      ],
      "text/plain": [
       "[]"
      ]
     },
     "execution_count": 4,
     "metadata": {},
     "output_type": "execute_result"
    }
   ],
   "source": [
    "%%cypher\n",
    "MATCH (british:Person {name: 'British'}), \n",
    "    (red:House { name: 'Red' })\n",
    "CREATE (british)-[: LIVES]->(red)"
   ]
  },
  {
   "cell_type": "code",
   "execution_count": 5,
   "id": "5bc47e15-d610-4b47-b07d-d999a8d9c421",
   "metadata": {},
   "outputs": [
    {
     "name": "stdout",
     "output_type": "stream",
     "text": [
      "1 relationships created.\n"
     ]
    },
    {
     "data": {
      "text/html": [
       "<table>\n",
       "    <tr>\n",
       "    </tr>\n",
       "</table>"
      ],
      "text/plain": [
       "[]"
      ]
     },
     "execution_count": 5,
     "metadata": {},
     "output_type": "execute_result"
    }
   ],
   "source": [
    "%%cypher\n",
    "MATCH (dane:Person {name: 'Dane'}), \n",
    "    (tea: Beverage { name: 'Tea' })\n",
    "CREATE (dane)-[: DRINKS]->(tea)"
   ]
  },
  {
   "cell_type": "code",
   "execution_count": 6,
   "id": "28404226-298f-4149-97f6-dafecfce542b",
   "metadata": {},
   "outputs": [
    {
     "name": "stdout",
     "output_type": "stream",
     "text": [
      "1 relationships created.\n"
     ]
    },
    {
     "data": {
      "text/html": [
       "<table>\n",
       "    <tr>\n",
       "    </tr>\n",
       "</table>"
      ],
      "text/plain": [
       "[]"
      ]
     },
     "execution_count": 6,
     "metadata": {},
     "output_type": "execute_result"
    }
   ],
   "source": [
    "%%cypher\n",
    "MATCH (swede:Person {name: 'Swede'}), \n",
    "    (dog:Pet { name: 'Dog' })\n",
    "CREATE (swede)-[: HAS]->(dog)\n"
   ]
  },
  {
   "cell_type": "code",
   "execution_count": 7,
   "id": "f3a4b9d1-30e0-4ab4-942b-16ee2fc4b343",
   "metadata": {},
   "outputs": [
    {
     "name": "stdout",
     "output_type": "stream",
     "text": [
      "1 relationships created.\n"
     ]
    },
    {
     "data": {
      "text/html": [
       "<table>\n",
       "    <tr>\n",
       "    </tr>\n",
       "</table>"
      ],
      "text/plain": [
       "[]"
      ]
     },
     "execution_count": 7,
     "metadata": {},
     "output_type": "execute_result"
    }
   ],
   "source": [
    "%%cypher\n",
    "MATCH (norwegian:Person {name: 'Norwegian'}), \n",
    "    (first: House { position: 'First' })\n",
    "CREATE (norwegian)-[: LIVE]->(first)\n"
   ]
  },
  {
   "cell_type": "code",
   "execution_count": 8,
   "id": "6dec19b1-e4f9-41bf-9b3b-d3b15ccaf4a9",
   "metadata": {},
   "outputs": [
    {
     "name": "stdout",
     "output_type": "stream",
     "text": [
      "1 relationships created.\n"
     ]
    },
    {
     "data": {
      "text/html": [
       "<table>\n",
       "    <tr>\n",
       "    </tr>\n",
       "</table>"
      ],
      "text/plain": [
       "[]"
      ]
     },
     "execution_count": 8,
     "metadata": {},
     "output_type": "execute_result"
    }
   ],
   "source": [
    "%%cypher\n",
    "MATCH (german:Person {name: 'German'}), \n",
    "    (prince: Tobacco{ name: 'Prince' })\n",
    "CREATE (german)-[: SMOKES]->(prince)"
   ]
  },
  {
   "cell_type": "code",
   "execution_count": 9,
   "id": "f8bec98e-acb4-4d8a-84a8-ba7986066dbb",
   "metadata": {},
   "outputs": [
    {
     "name": "stdout",
     "output_type": "stream",
     "text": [
      "1 relationships created.\n"
     ]
    },
    {
     "data": {
      "text/html": [
       "<table>\n",
       "    <tr>\n",
       "    </tr>\n",
       "</table>"
      ],
      "text/plain": [
       "[]"
      ]
     },
     "execution_count": 9,
     "metadata": {},
     "output_type": "execute_result"
    }
   ],
   "source": [
    "%%cypher\n",
    "MATCH (green: House {name: 'Green'}), \n",
    "    (white: House { name: 'White' })\n",
    "CREATE (green)-[: TOTHELEFTOF]->(white)"
   ]
  },
  {
   "cell_type": "code",
   "execution_count": 10,
   "id": "6ac3434a-7f1a-44b1-bf30-1fdb4fc61436",
   "metadata": {},
   "outputs": [
    {
     "name": "stdout",
     "output_type": "stream",
     "text": [
      "1 relationships created.\n"
     ]
    },
    {
     "data": {
      "text/html": [
       "<table>\n",
       "    <tr>\n",
       "    </tr>\n",
       "</table>"
      ],
      "text/plain": [
       "[]"
      ]
     },
     "execution_count": 10,
     "metadata": {},
     "output_type": "execute_result"
    }
   ],
   "source": [
    "%%cypher\n",
    "MATCH (green: House {name: 'Green'}), \n",
    "    (coffee: Beverage { name: 'Coffee' })\n",
    "CREATE (green)-[:SAMEPERSONDRINKS]->(coffee)"
   ]
  },
  {
   "cell_type": "code",
   "execution_count": 11,
   "id": "becc037d-a136-452b-9687-df0080b8a9cd",
   "metadata": {},
   "outputs": [
    {
     "name": "stdout",
     "output_type": "stream",
     "text": [
      "1 relationships created.\n"
     ]
    },
    {
     "data": {
      "text/html": [
       "<table>\n",
       "    <tr>\n",
       "    </tr>\n",
       "</table>"
      ],
      "text/plain": [
       "[]"
      ]
     },
     "execution_count": 11,
     "metadata": {},
     "output_type": "execute_result"
    }
   ],
   "source": [
    "%%cypher\n",
    "MATCH (pallmall: Tobacco {name: 'PallMall'}), \n",
    "    (birds: Pet { name: 'Birds' })\n",
    "CREATE (pallmall)-[:SAMEPERSONHAS]->(birds)"
   ]
  },
  {
   "cell_type": "code",
   "execution_count": 12,
   "id": "897ae5b6-6043-44f3-a779-49c74c5305eb",
   "metadata": {},
   "outputs": [
    {
     "name": "stdout",
     "output_type": "stream",
     "text": [
      "1 relationships created.\n"
     ]
    },
    {
     "data": {
      "text/html": [
       "<table>\n",
       "    <tr>\n",
       "    </tr>\n",
       "</table>"
      ],
      "text/plain": [
       "[]"
      ]
     },
     "execution_count": 12,
     "metadata": {},
     "output_type": "execute_result"
    }
   ],
   "source": [
    "%%cypher\n",
    "MATCH (yellow: House {name: 'Yellow'}), \n",
    "    (dunhill: Tobacco { name: 'Dunhill' })\n",
    "CREATE (yellow)-[:SAMEPERSONSMOKES]->(dunhill)"
   ]
  },
  {
   "cell_type": "code",
   "execution_count": 13,
   "id": "384c7575-d672-4c2f-ac5f-60a891a7f990",
   "metadata": {},
   "outputs": [
    {
     "name": "stdout",
     "output_type": "stream",
     "text": [
      "1 relationships created.\n"
     ]
    },
    {
     "data": {
      "text/html": [
       "<table>\n",
       "    <tr>\n",
       "    </tr>\n",
       "</table>"
      ],
      "text/plain": [
       "[]"
      ]
     },
     "execution_count": 13,
     "metadata": {},
     "output_type": "execute_result"
    }
   ],
   "source": [
    "%%cypher\n",
    "MATCH (red: House {name: 'Red'}), \n",
    "    (milk: Beverage { name: 'Milk' })\n",
    "CREATE (red)-[:SAMEPERSONDRINKS]->(milk)\n"
   ]
  },
  {
   "cell_type": "code",
   "execution_count": 14,
   "id": "7ae294e1-4873-4b70-b18d-5f985c0928d5",
   "metadata": {},
   "outputs": [
    {
     "name": "stdout",
     "output_type": "stream",
     "text": [
      "1 relationships created.\n"
     ]
    },
    {
     "data": {
      "text/html": [
       "<table>\n",
       "    <tr>\n",
       "    </tr>\n",
       "</table>"
      ],
      "text/plain": [
       "[]"
      ]
     },
     "execution_count": 14,
     "metadata": {},
     "output_type": "execute_result"
    }
   ],
   "source": [
    "%%cypher\n",
    "MATCH (blends: Tobacco {name: 'Blends'}), \n",
    "    (cat: Pet { name: 'Cat' })\n",
    "CREATE (blends)-[:SAMEPERSONLIVESNEXT]->(cat)\n"
   ]
  },
  {
   "cell_type": "code",
   "execution_count": 15,
   "id": "ad672efd-8fd3-434a-83fb-e52a50b1ad20",
   "metadata": {},
   "outputs": [
    {
     "name": "stdout",
     "output_type": "stream",
     "text": [
      "1 relationships created.\n"
     ]
    },
    {
     "data": {
      "text/html": [
       "<table>\n",
       "    <tr>\n",
       "    </tr>\n",
       "</table>"
      ],
      "text/plain": [
       "[]"
      ]
     },
     "execution_count": 15,
     "metadata": {},
     "output_type": "execute_result"
    }
   ],
   "source": [
    "%%cypher\n",
    "MATCH (horse: Pet {name: 'Horse'}), \n",
    "    (dunhill: Tobacco { name: 'Dunhill' })\n",
    "CREATE (horse)-[ :SAMEPERSONLIVESNEXT ]->(dunhill)\n"
   ]
  },
  {
   "cell_type": "code",
   "execution_count": 16,
   "id": "1b640170-819c-451e-ab76-f8c9f236ac40",
   "metadata": {},
   "outputs": [
    {
     "name": "stdout",
     "output_type": "stream",
     "text": [
      "1 relationships created.\n"
     ]
    },
    {
     "data": {
      "text/html": [
       "<table>\n",
       "    <tr>\n",
       "    </tr>\n",
       "</table>"
      ],
      "text/plain": [
       "[]"
      ]
     },
     "execution_count": 16,
     "metadata": {},
     "output_type": "execute_result"
    }
   ],
   "source": [
    "%%cypher\n",
    "MATCH (blends: Tobacco {name: 'Blends'}), \n",
    "    (water: Beverage { name: 'Water' })\n",
    "CREATE (blends)-[ :SAMEPERSONNEIGHBOR ]->(water)"
   ]
  },
  {
   "cell_type": "code",
   "execution_count": 17,
   "id": "936ef533-2697-4724-9c2a-cc558ff98cd3",
   "metadata": {},
   "outputs": [
    {
     "name": "stdout",
     "output_type": "stream",
     "text": [
      "1 relationships created.\n"
     ]
    },
    {
     "data": {
      "text/html": [
       "<table>\n",
       "    <tr>\n",
       "    </tr>\n",
       "</table>"
      ],
      "text/plain": [
       "[]"
      ]
     },
     "execution_count": 17,
     "metadata": {},
     "output_type": "execute_result"
    }
   ],
   "source": [
    "%%cypher\n",
    "MATCH (bluemaster: Tobacco {name: 'BlueMaster'}), \n",
    "    (beer: Beverage { name: 'Beer' })\n",
    "CREATE (bluemaster)-[ :SAMEPERSONDRINKS]->(beer)"
   ]
  },
  {
   "cell_type": "code",
   "execution_count": 18,
   "id": "c3424f90-5518-418b-a4d5-0ed5c884761a",
   "metadata": {},
   "outputs": [
    {
     "name": "stdout",
     "output_type": "stream",
     "text": [
      "1 relationships created.\n"
     ]
    },
    {
     "data": {
      "text/html": [
       "<table>\n",
       "    <tr>\n",
       "    </tr>\n",
       "</table>"
      ],
      "text/plain": [
       "[]"
      ]
     },
     "execution_count": 18,
     "metadata": {},
     "output_type": "execute_result"
    }
   ],
   "source": [
    "%%cypher\n",
    "MATCH (norwegian: Person {name: 'Norwegian'}), \n",
    "    (blue: House { name: 'Blue' })\n",
    "CREATE (norwegian)-[ :LIVESNEXT]->(blue)\n"
   ]
  },
  {
   "cell_type": "markdown",
   "id": "884aacc3-e4d7-46a4-91ec-0e5c90bcd6ed",
   "metadata": {},
   "source": [
    "## Resolución del problema, añadimos las relaciones que faltan"
   ]
  },
  {
   "cell_type": "code",
   "execution_count": 19,
   "id": "09699ff4-3317-41ec-8875-531abe95ea2b",
   "metadata": {},
   "outputs": [
    {
     "name": "stdout",
     "output_type": "stream",
     "text": [
      "1 relationships created.\n"
     ]
    },
    {
     "data": {
      "text/html": [
       "<table>\n",
       "    <tr>\n",
       "    </tr>\n",
       "</table>"
      ],
      "text/plain": [
       "[]"
      ]
     },
     "execution_count": 19,
     "metadata": {},
     "output_type": "execute_result"
    }
   ],
   "source": [
    "%%cypher\n",
    "MATCH (norwegian: Person {name: 'Norwegian'}), \n",
    "    (yellow: House { name: 'Yellow' })\n",
    "CREATE (norwegian)-[ :LIVES]->(yellow)"
   ]
  },
  {
   "cell_type": "code",
   "execution_count": 20,
   "id": "e56418a6-955d-44cf-a88f-1fd27437875a",
   "metadata": {},
   "outputs": [
    {
     "name": "stdout",
     "output_type": "stream",
     "text": [
      "1 relationships created.\n"
     ]
    },
    {
     "data": {
      "text/html": [
       "<table>\n",
       "    <tr>\n",
       "    </tr>\n",
       "</table>"
      ],
      "text/plain": [
       "[]"
      ]
     },
     "execution_count": 20,
     "metadata": {},
     "output_type": "execute_result"
    }
   ],
   "source": [
    "%%cypher\n",
    "MATCH (norwegian: Person {name: 'Norwegian'}), \n",
    "    (water: Beverage { name: 'Water' })\n",
    "CREATE (norwegian)-[ :DRINKS]->(water)"
   ]
  },
  {
   "cell_type": "code",
   "execution_count": 21,
   "id": "d06a082a-9413-4346-8e2d-be45d25a9dc1",
   "metadata": {},
   "outputs": [
    {
     "name": "stdout",
     "output_type": "stream",
     "text": [
      "1 relationships created.\n"
     ]
    },
    {
     "data": {
      "text/html": [
       "<table>\n",
       "    <tr>\n",
       "    </tr>\n",
       "</table>"
      ],
      "text/plain": [
       "[]"
      ]
     },
     "execution_count": 21,
     "metadata": {},
     "output_type": "execute_result"
    }
   ],
   "source": [
    "%%cypher\n",
    "MATCH (norwegian: Person {name: 'Norwegian'}), \n",
    "    (dunhill: Tobacco { name: 'Dunhill' })\n",
    "CREATE (norwegian)-[ :SMOKES]->(dunhill)\n"
   ]
  },
  {
   "cell_type": "code",
   "execution_count": 22,
   "id": "209e591d-c0f8-44b7-bab9-5148830c18c9",
   "metadata": {},
   "outputs": [
    {
     "name": "stdout",
     "output_type": "stream",
     "text": [
      "1 relationships created.\n"
     ]
    },
    {
     "data": {
      "text/html": [
       "<table>\n",
       "    <tr>\n",
       "    </tr>\n",
       "</table>"
      ],
      "text/plain": [
       "[]"
      ]
     },
     "execution_count": 22,
     "metadata": {},
     "output_type": "execute_result"
    }
   ],
   "source": [
    "%%cypher\n",
    "MATCH (norwegian: Person {name: 'Norwegian'}), \n",
    "    (cat: Pet { name: 'Cat' })\n",
    "CREATE (norwegian)-[ :HAS]->(cat)"
   ]
  },
  {
   "cell_type": "code",
   "execution_count": 23,
   "id": "a66a5c5b-0b44-4b9e-be64-30f1849a5a67",
   "metadata": {},
   "outputs": [
    {
     "name": "stdout",
     "output_type": "stream",
     "text": [
      "1 relationships created.\n"
     ]
    },
    {
     "data": {
      "text/html": [
       "<table>\n",
       "    <tr>\n",
       "    </tr>\n",
       "</table>"
      ],
      "text/plain": [
       "[]"
      ]
     },
     "execution_count": 23,
     "metadata": {},
     "output_type": "execute_result"
    }
   ],
   "source": [
    "%%cypher\n",
    "MATCH (british: Person {name: 'British'}), \n",
    "    (milk: Beverage {name: 'Milk' })\n",
    "CREATE (british)-[ :DRINKS]->(milk)"
   ]
  },
  {
   "cell_type": "code",
   "execution_count": 35,
   "id": "91967c05-fed4-4859-be77-1f148a85b159",
   "metadata": {},
   "outputs": [
    {
     "name": "stdout",
     "output_type": "stream",
     "text": [
      "1 relationships created.\n"
     ]
    },
    {
     "data": {
      "text/html": [
       "<table>\n",
       "    <tr>\n",
       "    </tr>\n",
       "</table>"
      ],
      "text/plain": [
       "[]"
      ]
     },
     "execution_count": 35,
     "metadata": {},
     "output_type": "execute_result"
    }
   ],
   "source": [
    "%%cypher\n",
    "MATCH (british: Person {name: 'British'}), \n",
    "    (pallmall: Tobacco {name: 'PallMall' })\n",
    "CREATE (british)-[ :SMOKES]->(pallmall)"
   ]
  },
  {
   "cell_type": "code",
   "execution_count": 25,
   "id": "88f26abd-531b-4375-8c16-3e947f150441",
   "metadata": {},
   "outputs": [
    {
     "name": "stdout",
     "output_type": "stream",
     "text": [
      "1 relationships created.\n"
     ]
    },
    {
     "data": {
      "text/html": [
       "<table>\n",
       "    <tr>\n",
       "    </tr>\n",
       "</table>"
      ],
      "text/plain": [
       "[]"
      ]
     },
     "execution_count": 25,
     "metadata": {},
     "output_type": "execute_result"
    }
   ],
   "source": [
    "%%cypher\n",
    "MATCH (british: Person {name: 'British'}), \n",
    "    (birds: Pet {name: 'Birds' })\n",
    "CREATE (british)-[ :HAS]->(birds)"
   ]
  },
  {
   "cell_type": "code",
   "execution_count": 26,
   "id": "842d62ec-1a27-4ed7-8065-65b312d8ecf1",
   "metadata": {},
   "outputs": [
    {
     "name": "stdout",
     "output_type": "stream",
     "text": [
      "1 relationships created.\n"
     ]
    },
    {
     "data": {
      "text/html": [
       "<table>\n",
       "    <tr>\n",
       "    </tr>\n",
       "</table>"
      ],
      "text/plain": [
       "[]"
      ]
     },
     "execution_count": 26,
     "metadata": {},
     "output_type": "execute_result"
    }
   ],
   "source": [
    "%%cypher\n",
    "MATCH (dane: Person {name: 'Dane'}), \n",
    "    (red: House { name: 'Red' })\n",
    "CREATE (dane)-[ :LIVES]->(red)"
   ]
  },
  {
   "cell_type": "code",
   "execution_count": 27,
   "id": "132a8392-c30e-4460-971b-9f636a181079",
   "metadata": {},
   "outputs": [
    {
     "name": "stdout",
     "output_type": "stream",
     "text": [
      "1 relationships created.\n"
     ]
    },
    {
     "data": {
      "text/html": [
       "<table>\n",
       "    <tr>\n",
       "    </tr>\n",
       "</table>"
      ],
      "text/plain": [
       "[]"
      ]
     },
     "execution_count": 27,
     "metadata": {},
     "output_type": "execute_result"
    }
   ],
   "source": [
    "%%cypher\n",
    "MATCH (dane: Person {name: 'Dane'}), \n",
    "    (blends: Tobacco { name: 'Blends' })\n",
    "CREATE (dane)-[ :SMOKES]->(blends)\n"
   ]
  },
  {
   "cell_type": "code",
   "execution_count": 37,
   "id": "42ca5213-8fea-4d9a-91dc-592caa05298c",
   "metadata": {},
   "outputs": [
    {
     "name": "stdout",
     "output_type": "stream",
     "text": [
      "1 relationships created.\n"
     ]
    },
    {
     "data": {
      "text/html": [
       "<table>\n",
       "    <tr>\n",
       "    </tr>\n",
       "</table>"
      ],
      "text/plain": [
       "[]"
      ]
     },
     "execution_count": 37,
     "metadata": {},
     "output_type": "execute_result"
    }
   ],
   "source": [
    "%%cypher\n",
    "MATCH (dane: Person {name: 'Dane'}), \n",
    "    (horse: Pet   {name: 'Horse'})\n",
    "CREATE (dane)-[ :HAS]->(horse)"
   ]
  },
  {
   "cell_type": "code",
   "execution_count": 29,
   "id": "67248fda-42d0-4dbe-8c23-640ae1e3f233",
   "metadata": {},
   "outputs": [
    {
     "name": "stdout",
     "output_type": "stream",
     "text": [
      "1 relationships created.\n"
     ]
    },
    {
     "data": {
      "text/html": [
       "<table>\n",
       "    <tr>\n",
       "    </tr>\n",
       "</table>"
      ],
      "text/plain": [
       "[]"
      ]
     },
     "execution_count": 29,
     "metadata": {},
     "output_type": "execute_result"
    }
   ],
   "source": [
    "%%cypher\n",
    "MATCH (german: Person {name: 'German'}), \n",
    "    (green: House {name: 'Green' })\n",
    "CREATE (german)-[ :LIVES]->(green)\n",
    "\n"
   ]
  },
  {
   "cell_type": "code",
   "execution_count": 30,
   "id": "b4ea3599-b367-4b07-8baa-bce123cd92fc",
   "metadata": {},
   "outputs": [
    {
     "name": "stdout",
     "output_type": "stream",
     "text": [
      "1 relationships created.\n"
     ]
    },
    {
     "data": {
      "text/html": [
       "<table>\n",
       "    <tr>\n",
       "    </tr>\n",
       "</table>"
      ],
      "text/plain": [
       "[]"
      ]
     },
     "execution_count": 30,
     "metadata": {},
     "output_type": "execute_result"
    }
   ],
   "source": [
    "%%cypher\n",
    "MATCH (german: Person {name: 'German'}), \n",
    "    (coffee: Beverage {name: 'Coffee' })\n",
    "CREATE (german)-[ :DRINKS]->(coffee)\n",
    "\n"
   ]
  },
  {
   "cell_type": "code",
   "execution_count": 31,
   "id": "6df43bca-b0a7-4149-a6ac-850b7f7e316d",
   "metadata": {},
   "outputs": [
    {
     "name": "stdout",
     "output_type": "stream",
     "text": [
      "1 relationships created.\n"
     ]
    },
    {
     "data": {
      "text/html": [
       "<table>\n",
       "    <tr>\n",
       "    </tr>\n",
       "</table>"
      ],
      "text/plain": [
       "[]"
      ]
     },
     "execution_count": 31,
     "metadata": {},
     "output_type": "execute_result"
    }
   ],
   "source": [
    "%%cypher\n",
    "MATCH (german: Person {name: 'German'}), \n",
    "    (fish: Pet {name: 'Fish' })\n",
    "CREATE (german)-[ :HAS]->(fish)\n"
   ]
  },
  {
   "cell_type": "code",
   "execution_count": 32,
   "id": "863f5a3d-3645-4fc2-af0f-faedda648dae",
   "metadata": {},
   "outputs": [
    {
     "name": "stdout",
     "output_type": "stream",
     "text": [
      "1 relationships created.\n"
     ]
    },
    {
     "data": {
      "text/html": [
       "<table>\n",
       "    <tr>\n",
       "    </tr>\n",
       "</table>"
      ],
      "text/plain": [
       "[]"
      ]
     },
     "execution_count": 32,
     "metadata": {},
     "output_type": "execute_result"
    }
   ],
   "source": [
    "%%cypher\n",
    "MATCH (swede: Person {name: 'Swede'}), \n",
    "    (white: House {name: 'White' })\n",
    "CREATE (swede)-[ :LIVES]->(white)\n"
   ]
  },
  {
   "cell_type": "code",
   "execution_count": 33,
   "id": "37b0cd6d-8299-4e2d-b45c-994cc4e21ad7",
   "metadata": {},
   "outputs": [
    {
     "name": "stdout",
     "output_type": "stream",
     "text": [
      "1 relationships created.\n"
     ]
    },
    {
     "data": {
      "text/html": [
       "<table>\n",
       "    <tr>\n",
       "    </tr>\n",
       "</table>"
      ],
      "text/plain": [
       "[]"
      ]
     },
     "execution_count": 33,
     "metadata": {},
     "output_type": "execute_result"
    }
   ],
   "source": [
    "%%cypher\n",
    "MATCH (swede: Person {name: 'Swede'}), \n",
    "    (beer: Beverage {name: 'Beer' })\n",
    "CREATE (swede)-[ :DRINKS]->(beer)"
   ]
  },
  {
   "cell_type": "code",
   "execution_count": 36,
   "id": "9895d0c3-0861-4399-9826-426a2006be1c",
   "metadata": {},
   "outputs": [
    {
     "name": "stdout",
     "output_type": "stream",
     "text": [
      "1 relationships created.\n"
     ]
    },
    {
     "data": {
      "text/html": [
       "<table>\n",
       "    <tr>\n",
       "    </tr>\n",
       "</table>"
      ],
      "text/plain": [
       "[]"
      ]
     },
     "execution_count": 36,
     "metadata": {},
     "output_type": "execute_result"
    }
   ],
   "source": [
    "%%cypher\n",
    "MATCH (swede: Person {name: 'Swede'}), \n",
    "    (bluemaster: Tobacco {name: 'BlueMaster' })\n",
    "CREATE (swede)-[ :SMOKES]->(bluemaster)"
   ]
  }
 ],
 "metadata": {
  "kernelspec": {
   "display_name": "Python 3 (ipykernel)",
   "language": "python",
   "name": "python3"
  },
  "language_info": {
   "codemirror_mode": {
    "name": "ipython",
    "version": 3
   },
   "file_extension": ".py",
   "mimetype": "text/x-python",
   "name": "python",
   "nbconvert_exporter": "python",
   "pygments_lexer": "ipython3",
   "version": "3.8.10"
  }
 },
 "nbformat": 4,
 "nbformat_minor": 5
}
